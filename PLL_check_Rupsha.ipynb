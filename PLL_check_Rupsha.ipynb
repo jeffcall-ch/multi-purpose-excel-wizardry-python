{
 "cells": [
  {
   "cell_type": "code",
   "execution_count": 6,
   "metadata": {},
   "outputs": [
    {
     "name": "stdout",
     "output_type": "stream",
     "text": [
      "174\n",
      "['MBX35BR001', 'MBX36BR015', 'MBX36BR040', 'MBX36BR050', 'MBX36BR060', 'MBX36BR070', 'MBX36BR080', 'MBX36BR090']\n",
      "PLL kks not found in MTO list: 8\n",
      "Psepc mismatch between PLL and MTO: 55\n",
      "['MBA30BR245', 'MBA30BR250', 'MBA30BR255', 'MBA31BR210', 'MBA81BR016', 'MBA81BR040', 'MBA81BR050', 'MBA81BR060', 'MBA81BR070', 'MBH70BR010', 'MBH70BR020', 'MBH70BR030', 'MBH70BR040', 'MBH20BR001', 'MBH20BR002', 'MBH20BR003', 'MBH20BR005', 'MBH20BR007', 'MBH20BR010', 'MBH20BR011', 'MBH20BR020', 'MBH20BR030', 'MBH30BR010', 'MBH30BR011', 'MBH30BR012', 'MBH30BR014', 'MBH30BR016', 'MBH30BR018', 'MBH30BR020', 'MBH30BR022', 'MBH30BR025', 'MBH30BR030', 'MBH30BR031', 'MBH40BR011', 'MBH40BR040', 'MBH40BR020', 'MBH40BR021', 'MBH40BR022', 'MBH40BR023', 'MBH40BR025', 'MBH40BR026', 'MBH40BR027', 'MBH40BR030', 'MBH40BR031', 'MBH40BR032', 'MBH40BR033', 'MBH40BR035', 'MBH40BR036', 'MBH40BR037', 'MBP31BR001', 'MBP31BR002', 'MBP41BR010', 'MBP42BR010', 'MBP43BR010', 'MBX36BR020']\n"
     ]
    }
   ],
   "source": [
    "import pandas as pd\r\n",
    "import pprint\r\n",
    "import csv\r\n",
    "\r\n",
    "rupsha_PLL_xls = r\"C:\\Users\\50000700\\Python\\Python_repos\\multi-purpose-excel-wizardry-python\\Rupsha_PLL_LS.xls\"\r\n",
    "df_pll = pd.read_excel(rupsha_PLL_xls, header=[0])\r\n",
    "\r\n",
    "rupsha_mto_xls = r\"C:\\Users\\50000700\\Python\\Python_repos\\multi-purpose-excel-wizardry-python\\piping_mto_.xls\"\r\n",
    "df_mto = pd.read_excel(rupsha_mto_xls, header=[0])\r\n",
    "df_mto['DesAndPipeSpec'] = df_mto['Designation'] + df_mto['PipeSpec']\r\n",
    "\r\n",
    "df_mto = df_mto.drop_duplicates(subset=['DesAndPipeSpec'])\r\n",
    "# drop connectors\r\n",
    "df_mto = df_mto[df_mto[\"PipeSpec\"].str.contains(\"ER\")==False]\r\n",
    "# drop swagelok pipes\r\n",
    "df_mto = df_mto[df_mto[\"PipeSpec\"].str.contains(\"SW\")==False]\r\n",
    "# print (df_mto)\r\n",
    "\r\n",
    "# keep only those KKS which have duplicate pipespec and write them to csv\r\n",
    "# df_mto = df_mto[df_mto.duplicated(subset=[\"Designation\"], keep=False)]\r\n",
    "# df_mto.to_csv(r'C:\\Users\\50000700\\Python\\Python_repos\\multi-purpose-excel-wizardry-python\\mto_kks_with_several_pspecs.csv')\r\n",
    "\r\n",
    "print (len(df_mto))\r\n",
    "\r\n",
    "\r\n",
    "def getDictFromDf(df, kksColumnName, pSpecColumnName):\r\n",
    "    list_of_KKS = df[kksColumnName].tolist()\r\n",
    "    list_of_PipeSpec = df[pSpecColumnName].tolist()\r\n",
    "    kks_pspec_dict = {}\r\n",
    "\r\n",
    "    for i, kks in enumerate(list_of_KKS):\r\n",
    "        kks_pspec_dict[kks] = list_of_PipeSpec[i]\r\n",
    "\r\n",
    "    return kks_pspec_dict\r\n",
    "\r\n",
    "pll_dict = getDictFromDf(df_pll, 'Designation', 'PipeSpec')\r\n",
    "mto_dict = getDictFromDf(df_mto, 'Designation', 'PipeSpec')\r\n",
    "\r\n",
    "\r\n",
    "# pprint.pprint (mto_dict)\r\n",
    "\r\n",
    "kks_not_found_list = []\r\n",
    "kks_pspec_mismatch_list = []\r\n",
    "\r\n",
    "for kks in pll_dict.keys():\r\n",
    "    if kks not in mto_dict.keys():\r\n",
    "        kks_not_found_list.append(kks)\r\n",
    "    else:\r\n",
    "        if pll_dict[kks] != mto_dict[kks]:\r\n",
    "            kks_pspec_mismatch_list.append(kks)\r\n",
    "\r\n",
    "print(kks_not_found_list)\r\n",
    "print(f\"PLL kks not found in MTO list: {len(kks_not_found_list)}\")\r\n",
    "print(f\"Psepc mismatch between PLL and MTO: {len(kks_pspec_mismatch_list)}\")\r\n",
    "print(kks_pspec_mismatch_list)\r\n",
    "\r\n",
    "\r\n",
    "with open(r'C:\\Users\\50000700\\Python\\Python_repos\\multi-purpose-excel-wizardry-python\\mismatch.csv', 'w', newline='') as mismatchfile:\r\n",
    "    writer = csv.writer(mismatchfile)\r\n",
    "    writer.writerow([\"No\", \"Designation\", \"PLL_PipeSpec\", \"S3D_PipeSpec\"])\r\n",
    "    for i, kks in enumerate(kks_pspec_mismatch_list):\r\n",
    "        writer.writerow([i+1, kks, pll_dict[kks], mto_dict[kks]])"
   ]
  },
  {
   "cell_type": "code",
   "execution_count": 1,
   "metadata": {},
   "outputs": [
    {
     "ename": "ModuleNotFoundError",
     "evalue": "No module named 'pandas'",
     "output_type": "error",
     "traceback": [
      "\u001b[1;31m---------------------------------------------------------------------------\u001b[0m",
      "\u001b[1;31mModuleNotFoundError\u001b[0m                       Traceback (most recent call last)",
      "\u001b[1;32m<ipython-input-1-f4ebca2188b1>\u001b[0m in \u001b[0;36m<module>\u001b[1;34m\u001b[0m\n\u001b[1;32m----> 1\u001b[1;33m \u001b[1;32mimport\u001b[0m \u001b[0mpandas\u001b[0m \u001b[1;32mas\u001b[0m \u001b[0mpd\u001b[0m\u001b[1;33m\u001b[0m\u001b[1;33m\u001b[0m\u001b[0m\n\u001b[0m\u001b[0;32m      2\u001b[0m \u001b[1;32mimport\u001b[0m \u001b[0mpprint\u001b[0m\u001b[1;33m\u001b[0m\u001b[1;33m\u001b[0m\u001b[0m\n\u001b[0;32m      3\u001b[0m \u001b[1;32mimport\u001b[0m \u001b[0mcsv\u001b[0m\u001b[1;33m\u001b[0m\u001b[1;33m\u001b[0m\u001b[0m\n\u001b[0;32m      4\u001b[0m \u001b[1;33m\u001b[0m\u001b[0m\n\u001b[0;32m      5\u001b[0m \u001b[0mrupsha_mat_list_xls\u001b[0m \u001b[1;33m=\u001b[0m \u001b[1;34mr\"C:\\Users\\50000700\\Python\\Python_repos\\multi-purpose-excel-wizardry-python\\rupsha_material_list_23.04.2021.xls\"\u001b[0m\u001b[1;33m\u001b[0m\u001b[1;33m\u001b[0m\u001b[0m\n",
      "\u001b[1;31mModuleNotFoundError\u001b[0m: No module named 'pandas'"
     ]
    }
   ],
   "source": [
    "import pandas as pd\r\n",
    "import pprint\r\n",
    "import csv\r\n",
    "\r\n",
    "rupsha_mat_list_xls = r\"C:\\Users\\50000700\\Python\\Python_repos\\multi-purpose-excel-wizardry-python\\rupsha_material_list_23.04.2021.xls\"\r\n",
    "df_mat_list = pd.read_excel(rupsha_mat_list_xls, header=[0])\r\n",
    "\r\n",
    " # remove \"m\" unit from meter line items\r\n",
    "df_mat_list['Quantity'] = df_mat_list['Quantity'].replace(' m','',regex=True)\r\n",
    "# convert quantity to number format \r\n",
    "df_mat_list['Quantity'] = df_mat_list['Quantity'].apply(pd.to_numeric, errors='ignore')\r\n",
    "# strip whitespace from Puma code\r\n",
    "df_mat_list['Puma Code'] = df_mat_list['Puma Code'].str.strip()\r\n",
    "# create sum quantities based on same Puma\r\n",
    "df_formatted = df_mat_list.groupby(['Puma Code']).agg({'Description':'first', 'NPD':'last','Puma Code':'last','Quantity':'sum'})\r\n",
    "\r\n"
   ]
  }
 ],
 "metadata": {
  "kernelspec": {
   "display_name": "Python 3.9.0 64-bit",
   "name": "python390jvsc74a57bd09aaa65ac11000f7430bdf8a8fb417899f073ff53cb12adb663f21fb59342fbd6"
  },
  "language_info": {
   "codemirror_mode": {
    "name": "ipython",
    "version": 3
   },
   "file_extension": ".py",
   "mimetype": "text/x-python",
   "name": "python",
   "nbconvert_exporter": "python",
   "pygments_lexer": "ipython3",
   "version": "3.9.0"
  },
  "metadata": {
   "interpreter": {
    "hash": "9aaa65ac11000f7430bdf8a8fb417899f073ff53cb12adb663f21fb59342fbd6"
   }
  },
  "orig_nbformat": 2
 },
 "nbformat": 4,
 "nbformat_minor": 2
}